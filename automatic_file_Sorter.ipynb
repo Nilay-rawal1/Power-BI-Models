{
 "cells": [
  {
   "cell_type": "markdown",
   "metadata": {},
   "source": [
    "### Automatic File Sorter in File Explorer\n"
   ]
  },
  {
   "cell_type": "code",
   "execution_count": 2,
   "metadata": {},
   "outputs": [],
   "source": [
    "import os ,shutil\n",
    "#shutil high level operation in file explorer in python\n"
   ]
  },
  {
   "cell_type": "code",
   "execution_count": 10,
   "metadata": {},
   "outputs": [],
   "source": [
    "path=r\"D:/PowerBI/Sorter_folder/\""
   ]
  },
  {
   "cell_type": "code",
   "execution_count": 19,
   "metadata": {},
   "outputs": [],
   "source": [
    "file_name=os.listdir(path)"
   ]
  },
  {
   "cell_type": "code",
   "execution_count": 16,
   "metadata": {},
   "outputs": [
    {
     "name": "stdout",
     "output_type": "stream",
     "text": [
      "D:/PowerBI/Sorter_folder/csv files\n",
      "D:/PowerBI/Sorter_folder/image files\n",
      "D:/PowerBI/Sorter_folder/docx files\n"
     ]
    }
   ],
   "source": [
    "folder_names=['csv files','image files','docx files']\n",
    "\n",
    "for loop in range(0,3):\n",
    "    if not os.path.exists(path +folder_names[loop] ):\n",
    "        print(path +folder_names[loop])\n",
    "        os.makedirs((path +folder_names[loop]))"
   ]
  },
  {
   "cell_type": "code",
   "execution_count": 20,
   "metadata": {},
   "outputs": [],
   "source": [
    "for file in file_name:\n",
    "    if \".csv\"  in file and not os.path.exists(path +\"csv files/\"+file ):\n",
    "        shutil.move(path+file,path +\"csv files/\"+file)"
   ]
  },
  {
   "cell_type": "code",
   "execution_count": 21,
   "metadata": {},
   "outputs": [],
   "source": [
    "for file in file_name:\n",
    "    if \".jpg\"  in file and not os.path.exists(path +\"image files/\"+file ):\n",
    "        shutil.move(path+file,path +\"image files/\"+file)"
   ]
  },
  {
   "cell_type": "code",
   "execution_count": 22,
   "metadata": {},
   "outputs": [],
   "source": [
    "for file in file_name:\n",
    "    if \".docx\"  in file and not os.path.exists(path +\"docx files/\"+file ):\n",
    "        shutil.move(path+file,path +\"docx files/\"+file)"
   ]
  },
  {
   "cell_type": "code",
   "execution_count": null,
   "metadata": {},
   "outputs": [],
   "source": []
  }
 ],
 "metadata": {
  "kernelspec": {
   "display_name": "Python 3",
   "language": "python",
   "name": "python3"
  },
  "language_info": {
   "codemirror_mode": {
    "name": "ipython",
    "version": 3
   },
   "file_extension": ".py",
   "mimetype": "text/x-python",
   "name": "python",
   "nbconvert_exporter": "python",
   "pygments_lexer": "ipython3",
   "version": "3.10.11"
  }
 },
 "nbformat": 4,
 "nbformat_minor": 2
}
